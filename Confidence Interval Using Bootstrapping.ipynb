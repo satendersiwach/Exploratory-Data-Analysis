{
  "nbformat": 4,
  "nbformat_minor": 0,
  "metadata": {
    "colab": {
      "name": "Untitled3.ipynb",
      "provenance": [],
      "authorship_tag": "ABX9TyPaFRPGMfhj9KSLP15fzkaW",
      "include_colab_link": true
    },
    "kernelspec": {
      "name": "python3",
      "display_name": "Python 3"
    },
    "language_info": {
      "name": "python"
    }
  },
  "cells": [
    {
      "cell_type": "markdown",
      "metadata": {
        "id": "view-in-github",
        "colab_type": "text"
      },
      "source": [
        "<a href=\"https://colab.research.google.com/github/satendersiwach/Exploratory-Data-Analysis/blob/main/Confidence%20Interval%20Using%20Bootstrapping.ipynb\" target=\"_parent\"><img src=\"https://colab.research.google.com/assets/colab-badge.svg\" alt=\"Open In Colab\"/></a>"
      ]
    },
    {
      "cell_type": "markdown",
      "source": [
        "# Empirical bootstrap based Confidence Interval"
      ],
      "metadata": {
        "id": "iP-jUb5rvFHc"
      }
    },
    {
      "cell_type": "code",
      "execution_count": 1,
      "metadata": {
        "id": "O_BZiX6OsHki"
      },
      "outputs": [],
      "source": [
        "import numpy as np\n",
        "from sklearn.utils import resample\n",
        "from sklearn.metrics import accuracy_score\n",
        "from matplotlib import pyplot"
      ]
    },
    {
      "cell_type": "code",
      "source": [
        "# load dataset\n",
        "x = np.array([180,162,158,172,168,150,171,183,165,176])"
      ],
      "metadata": {
        "id": "ljsvqO7jsWoy"
      },
      "execution_count": 3,
      "outputs": []
    },
    {
      "cell_type": "code",
      "source": [
        "#set how many bootstrap sample?\n",
        "n_iteration=1000\n",
        "n_size=int(len(x))"
      ],
      "metadata": {
        "id": "nZoXMfKGsdc1"
      },
      "execution_count": 15,
      "outputs": []
    },
    {
      "cell_type": "code",
      "source": [
        "sample_list=list()\n",
        "for i in range(n_iteration):\n",
        "  #generate artificial discrete uniform random sample using resample method from sklearn.utils\n",
        "  s=resample(x, n_samples=n_size)\n",
        "  #calculate median of sample s\n",
        "  median=np.median(s)\n",
        "  sample_list.append(median)"
      ],
      "metadata": {
        "id": "BpABMPoHssmk"
      },
      "execution_count": 16,
      "outputs": []
    },
    {
      "cell_type": "code",
      "source": [
        "# confidence intervals\n",
        "alpha = 0.95\n",
        "p = ((1.0-alpha)/2.0) * 100\n",
        "lower =  np.percentile(sample_list, p)\n",
        "lower"
      ],
      "metadata": {
        "colab": {
          "base_uri": "https://localhost:8080/"
        },
        "id": "-DjSIdHUtp7a",
        "outputId": "b8eaacaf-5a54-461a-c4e2-f0f2e5d15c25"
      },
      "execution_count": 17,
      "outputs": [
        {
          "output_type": "execute_result",
          "data": {
            "text/plain": [
              "161.5"
            ]
          },
          "metadata": {},
          "execution_count": 17
        }
      ]
    },
    {
      "cell_type": "code",
      "source": [
        "p = (alpha+((1.0-alpha)/2.0)) * 100\n",
        "upper =  np.percentile(sample_list, p)\n",
        "upper"
      ],
      "metadata": {
        "colab": {
          "base_uri": "https://localhost:8080/"
        },
        "id": "5aUiWOnHtutS",
        "outputId": "3cd62124-f01c-4ed8-9b70-0f024cd41071"
      },
      "execution_count": 18,
      "outputs": [
        {
          "output_type": "execute_result",
          "data": {
            "text/plain": [
              "176.0"
            ]
          },
          "metadata": {},
          "execution_count": 18
        }
      ]
    },
    {
      "cell_type": "code",
      "source": [
        "print('%.1f confidence interval %.1f and %.1f' % (alpha*100, lower, upper))"
      ],
      "metadata": {
        "colab": {
          "base_uri": "https://localhost:8080/"
        },
        "id": "v9PWsqNyudVr",
        "outputId": "b2aee7e2-8d04-40ee-ee99-ee6167c6c83d"
      },
      "execution_count": 19,
      "outputs": [
        {
          "output_type": "stream",
          "name": "stdout",
          "text": [
            "95.0 confidence interval 161.5 and 176.0\n"
          ]
        }
      ]
    },
    {
      "cell_type": "code",
      "source": [
        "# plot scores\n",
        "pyplot.hist(sample_list)\n",
        "pyplot.show()"
      ],
      "metadata": {
        "colab": {
          "base_uri": "https://localhost:8080/",
          "height": 265
        },
        "id": "AWlpci45ulNM",
        "outputId": "c0608954-268d-48a3-856b-625d68a78120"
      },
      "execution_count": 22,
      "outputs": [
        {
          "output_type": "display_data",
          "data": {
            "image/png": "[encoded data removed]",
            "text/plain": [
              "<Figure size 432x288 with 1 Axes>"
            ]
          },
          "metadata": {
            "needs_background": "light"
          }
        }
      ]
    },
    {
      "cell_type": "code",
      "source": [
        ""
      ],
      "metadata": {
        "id": "z3RI7F8fu5pr"
      },
      "execution_count": null,
      "outputs": []
    }
  ]
}